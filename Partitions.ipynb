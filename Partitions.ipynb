{
  "nbformat": 4,
  "nbformat_minor": 0,
  "metadata": {
    "colab": {
      "provenance": [],
      "authorship_tag": "ABX9TyMoF7A3a44bkukY/83aUxfZ",
      "include_colab_link": true
    },
    "kernelspec": {
      "name": "python3",
      "display_name": "Python 3"
    },
    "language_info": {
      "name": "python"
    }
  },
  "cells": [
    {
      "cell_type": "markdown",
      "metadata": {
        "id": "view-in-github",
        "colab_type": "text"
      },
      "source": [
        "<a href=\"https://colab.research.google.com/github/RudraxDave/LA_Foreclosure_Rates_Analysis/blob/main/Partitions.ipynb\" target=\"_parent\"><img src=\"https://colab.research.google.com/assets/colab-badge.svg\" alt=\"Open In Colab\"/></a>"
      ]
    },
    {
      "cell_type": "code",
      "execution_count": 5,
      "metadata": {
        "colab": {
          "base_uri": "https://localhost:8080/"
        },
        "id": "9eprWTpJAmCw",
        "outputId": "079fb6fd-7c3e-4e59-ddd4-2d5d0f8f7055"
      },
      "outputs": [
        {
          "output_type": "stream",
          "name": "stdout",
          "text": [
            "Looking in indexes: https://pypi.org/simple, https://us-python.pkg.dev/colab-wheels/public/simple/\n",
            "Requirement already satisfied: pyspark in /usr/local/lib/python3.7/dist-packages (3.3.1)\n",
            "Requirement already satisfied: py4j==0.10.9.5 in /usr/local/lib/python3.7/dist-packages (from pyspark) (0.10.9.5)\n"
          ]
        }
      ],
      "source": [
        "!pip install pyspark\n",
        "\n",
        "from pyspark import SparkConf, SparkContext\n",
        "configuration = SparkConf().setAppName(\"Task1\").setMaster(\"local[3]\")\n",
        "sc = SparkContext(conf = configuration)"
      ]
    },
    {
      "cell_type": "code",
      "source": [
        "dataCSV = sc.textFile(\"foreclosed.csv\").collect()\n",
        "\n",
        "partitions = sc.parallelize(dataCSV,5).glom().collect()"
      ],
      "metadata": {
        "id": "w9tebE-7Ao0y"
      },
      "execution_count": null,
      "outputs": []
    }
  ]
}